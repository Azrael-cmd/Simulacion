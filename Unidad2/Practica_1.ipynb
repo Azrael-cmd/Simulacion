{
  "nbformat": 4,
  "nbformat_minor": 0,
  "metadata": {
    "colab": {
      "provenance": [],
      "authorship_tag": "ABX9TyOIPf85DkfXwhIE6UInwgkx",
      "include_colab_link": true
    },
    "kernelspec": {
      "name": "python3",
      "display_name": "Python 3"
    },
    "language_info": {
      "name": "python"
    }
  },
  "cells": [
    {
      "cell_type": "markdown",
      "metadata": {
        "id": "view-in-github",
        "colab_type": "text"
      },
      "source": [
        "<a href=\"https://colab.research.google.com/github/Azrael-cmd/Simulacion/blob/main/Unidad2/Practica_1.ipynb\" target=\"_parent\"><img src=\"https://colab.research.google.com/assets/colab-badge.svg\" alt=\"Open In Colab\"/></a>"
      ]
    },
    {
      "cell_type": "markdown",
      "source": [
        "# Simulacion\n",
        "## Unidad 2\n",
        "### Practica 1. Generacion de numeros aleatorios por el metodo de centros al cuadrado\n",
        "Maestro: José Gabriel Rodríguez Rivas\n",
        "Alumno: Jesús Sebastián Berumen"
      ],
      "metadata": {
        "id": "MDzIketX3VGC"
      }
    },
    {
      "cell_type": "markdown",
      "source": [
        "#### Por centros cuadrados con numeros enteros"
      ],
      "metadata": {
        "id": "Ev3AXeTR3t7b"
      }
    },
    {
      "cell_type": "code",
      "source": [
        "def CentrosCuadradoE(seed, n):\n",
        "    resu = []\n",
        "    valor = seed\n",
        "    num_digitos = len(str(seed))\n",
        "    for _ in range(n):\n",
        "        cuadrado = str(valor ** 2).zfill(2 * num_digitos)\n",
        "        mid = (len(cuadrado) - num_digitos) // 2\n",
        "        valor = int(cuadrado[mid: mid + num_digitos])\n",
        "        resu.append(cuadrado)\n",
        "    return resu\n",
        "seed_int = 83\n",
        "n = 10\n",
        "cce = CentrosCuadradoE(seed_int, n)\n",
        "print(\"Números generados por Centros al Cuadrado (Enteros):\")\n",
        "print(cce)"
      ],
      "metadata": {
        "colab": {
          "base_uri": "https://localhost:8080/"
        },
        "id": "eXpwvlZG304M",
        "outputId": "d6bb67c0-93b5-4465-93ed-1a460b988ce6"
      },
      "execution_count": 27,
      "outputs": [
        {
          "output_type": "stream",
          "name": "stdout",
          "text": [
            "Números generados por Centros al Cuadrado (Enteros):\n",
            "['6889', '7744', '5476', '2209', '0400', '1600', '3600', '3600', '3600', '3600']\n"
          ]
        }
      ]
    },
    {
      "cell_type": "markdown",
      "source": [
        "#### Por medios cuadrados"
      ],
      "metadata": {
        "id": "Fq2KfweV4DPI"
      }
    }
  ]
}