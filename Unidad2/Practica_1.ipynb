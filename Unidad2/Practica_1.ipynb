{
  "nbformat": 4,
  "nbformat_minor": 0,
  "metadata": {
    "colab": {
      "provenance": [],
      "authorship_tag": "ABX9TyO/KzVyQdEpYrdos0JunMcX",
      "include_colab_link": true
    },
    "kernelspec": {
      "name": "python3",
      "display_name": "Python 3"
    },
    "language_info": {
      "name": "python"
    }
  },
  "cells": [
    {
      "cell_type": "markdown",
      "metadata": {
        "id": "view-in-github",
        "colab_type": "text"
      },
      "source": [
        "<a href=\"https://colab.research.google.com/github/Azrael-cmd/Simulacion/blob/main/Unidad2/Practica_1.ipynb\" target=\"_parent\"><img src=\"https://colab.research.google.com/assets/colab-badge.svg\" alt=\"Open In Colab\"/></a>"
      ]
    },
    {
      "cell_type": "markdown",
      "source": [
        "# Simulacion\n",
        "## Unidad 2\n",
        "### Practica 1. Generacion de numeros aleatorios por el metodo de centros al cuadrado\n",
        "Maestro: José Gabriel Rodríguez Rivas\n",
        "Alumno: Jesús Sebastián Berumen"
      ],
      "metadata": {
        "id": "MDzIketX3VGC"
      }
    },
    {
      "cell_type": "markdown",
      "source": [
        "#### Generacion de numeros pseudo aleatorios por metodo de congruencia lineal"
      ],
      "metadata": {
        "id": "Ev3AXeTR3t7b"
      }
    },
    {
      "cell_type": "code",
      "source": [
        "def mcl(a, c, m, seed, n=100):\n",
        "    cl = []\n",
        "    x = seed\n",
        "    for _ in range(n):\n",
        "        x = (a * x + c) % m\n",
        "        cl.append(x)\n",
        "    return cl\n",
        "a = 1664525 # numero por el que se multiplica la semilla\n",
        "c = 1013904223 # numero que se suma\n",
        "m = 232 # modulo para dividir\n",
        "seed = 12345 # semilla actual dada\n",
        "\n",
        "cl = mcl(a, c, m, seed)\n",
        "print(cl)"
      ],
      "metadata": {
        "colab": {
          "base_uri": "https://localhost:8080/"
        },
        "id": "eXpwvlZG304M",
        "outputId": "d264129e-115c-41d2-c15a-a924a53beb4a"
      },
      "execution_count": 15,
      "outputs": [
        {
          "output_type": "stream",
          "name": "stdout",
          "text": [
            "[228, 27, 22, 165, 112, 143, 138, 49, 228, 27, 22, 165, 112, 143, 138, 49, 228, 27, 22, 165, 112, 143, 138, 49, 228, 27, 22, 165, 112, 143, 138, 49, 228, 27, 22, 165, 112, 143, 138, 49, 228, 27, 22, 165, 112, 143, 138, 49, 228, 27, 22, 165, 112, 143, 138, 49, 228, 27, 22, 165, 112, 143, 138, 49, 228, 27, 22, 165, 112, 143, 138, 49, 228, 27, 22, 165, 112, 143, 138, 49, 228, 27, 22, 165, 112, 143, 138, 49, 228, 27, 22, 165, 112, 143, 138, 49, 228, 27, 22, 165]\n"
          ]
        }
      ]
    }
  ]
}